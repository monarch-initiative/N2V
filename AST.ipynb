{
 "cells": [
  {
   "cell_type": "code",
   "execution_count": 44,
   "id": "9b138313",
   "metadata": {},
   "outputs": [],
   "source": [
    "from typing import Dict, List\n",
    "import ast\n",
    "from ast import ClassDef, ImportFrom, FunctionDef, Return\n",
    "from glob import glob\n",
    "import os\n",
    "from functools import lru_cache"
   ]
  },
  {
   "cell_type": "code",
   "execution_count": 54,
   "id": "f3771020",
   "metadata": {},
   "outputs": [],
   "source": [
    "def get_python_code_from_import(\n",
    "    original_file_path: str,\n",
    "    import_from: Dict\n",
    "):\n",
    "    element = import_from[\"element\"]\n",
    "    source_path = os.path.join(\n",
    "        *original_file_path.split(os.sep)[:-element.level],\n",
    "        f\"{element.module}.py\"\n",
    "    )\n",
    "    \n",
    "    if not os.path.exists(source_path):\n",
    "        source_path = os.path.join(\n",
    "            *original_file_path.split(os.sep)[:-element.level],\n",
    "            f\"{element.module}/__init__.py\"\n",
    "        )\n",
    "    \n",
    "    expected_class_name = import_from[\"name\"]\n",
    "    \n",
    "    with open(source_path, \"r\") as f:\n",
    "        python_code = f.read()\n",
    "    \n",
    "    parsed = ast.parse(python_code)\n",
    "    klasses = get_classes(parsed)\n",
    "    imports = get_imports(parsed)\n",
    "    \n",
    "    desired_klass = None\n",
    "    \n",
    "    # We search for the class here\n",
    "    for klass in klasses:\n",
    "        if klass.name == expected_class_name:\n",
    "            desired_klass = klass\n",
    "            \n",
    "    # We need to go look for it in the imports\n",
    "    for import_name, import_from in imports.items():\n",
    "        # If this is a parent class\n",
    "        if import_name == expected_class_name:\n",
    "            # Get the imported path and parsed code.\n",
    "            return get_python_code_from_import(\n",
    "                source_path,\n",
    "                import_from\n",
    "            )\n",
    "        \n",
    "    return (\n",
    "        original_file_path,\n",
    "        desired_klass,\n",
    "        klasses,\n",
    "        imports\n",
    "    )\n",
    "    \n",
    "\n",
    "def get_class_parent_names(\n",
    "    original_file_path: str,\n",
    "    klass: ClassDef,\n",
    "    klasses: List[ClassDef],\n",
    "    imports: List[Dict],\n",
    "    expected_parent: str\n",
    ") -> List[str]:\n",
    "    \"\"\"Return list of parent classes names.\"\"\"\n",
    "    # First we search for the parent class in the same file.\n",
    "    parent_names = [\n",
    "        base.id\n",
    "        for base in klass.bases\n",
    "    ]\n",
    "    \n",
    "    if expected_parent in parent_names:\n",
    "        return parent_names\n",
    "    \n",
    "    # If the class does not have parents\n",
    "    if len(parent_names) == 0:\n",
    "        return []\n",
    "    \n",
    "    # Otherwise we search for the parents in this same directory\n",
    "    for candidate_parent in klasses:\n",
    "        # If this is a parent class\n",
    "        if candidate_parent.name in parent_names:\n",
    "            # We find the parents of this class            \n",
    "            parent_names.extend(\n",
    "                get_class_parent_names(\n",
    "                    original_file_path,\n",
    "                    candidate_parent,\n",
    "                    klasses\n",
    "                )\n",
    "            )\n",
    "            \n",
    "            if expected_parent in parent_names:\n",
    "                return parent_names\n",
    "            \n",
    "    # Then we check if any of the imports are parents\n",
    "    for import_name, import_from in imports.items():\n",
    "        # If this is a parent class\n",
    "        if import_name in parent_names:\n",
    "            # Get the imported path and parsed code.\n",
    "            parent_names.extend(get_class_parent_names(\n",
    "                *get_python_code_from_import(\n",
    "                    original_file_path,\n",
    "                    import_from\n",
    "                ),\n",
    "                expected_parent\n",
    "            ))\n",
    "            \n",
    "            if expected_parent in parent_names:\n",
    "                return parent_names\n",
    "            \n",
    "    return parent_names\n",
    "\n",
    "def get_imports(parsed) -> Dict[str, ImportFrom]:\n",
    "    \"\"\"Returns local imports identified in parsed Python code.\"\"\"\n",
    "    return {\n",
    "        getattr(alias, \"as_name\", alias.name): {\n",
    "            \"element\": element,\n",
    "            \"name\": alias.name\n",
    "        }\n",
    "        for element in parsed.body\n",
    "        if isinstance(element, ImportFrom)\n",
    "        for alias in element.names\n",
    "        if element.level > 0\n",
    "    }\n",
    "\n",
    "def get_classes(parsed) -> List[ClassDef]:\n",
    "    \"\"\"Returns classes identified in parsed Python code.\"\"\"\n",
    "    return [\n",
    "        element\n",
    "        for element in parsed.body\n",
    "        if isinstance(element, ClassDef)\n",
    "    ]\n",
    "\n",
    "def find_method_name(klass: ClassDef) -> str:\n",
    "    \"\"\"Returns name extracted from class.\"\"\"\n",
    "    for function in klass.body:\n",
    "        if not isinstance(function, FunctionDef) and function.name == \"model_name\":\n",
    "            continue\n",
    "        for function_line in function.body:\n",
    "            if isinstance(function_line, Return):\n",
    "                return function_line.value.s\n",
    "    raise ValueError(\n",
    "        \"Unable to find the method `model_name` in the \"\n",
    "        f\"model class {klass.name}.\"\n",
    "    )\n",
    "\n",
    "def build_init(\n",
    "    path_pattern: str,\n",
    "    expected_parent: str\n",
    "):\n",
    "    paths = glob(path_pattern)\n",
    "    for path in paths:\n",
    "        with open(path, \"r\") as f:\n",
    "            python_code = f.read()\n",
    "        parsed = ast.parse(python_code)\n",
    "        klasses = get_classes(parsed)\n",
    "        imports = get_imports(parsed)\n",
    "        for klass in klasses:\n",
    "            # If this class is an abstract.\n",
    "            if len(klass.decorator_list) > 0 and klass.decorator_list[0].id == \"abstract_class\":\n",
    "                continue\n",
    "            # If this class has the expected parent.\n",
    "            if expected_parent in get_class_parent_names(\n",
    "                path,\n",
    "                klass,\n",
    "                klasses,\n",
    "                imports,\n",
    "                expected_parent\n",
    "            ):\n",
    "                print(klass.name, find_method_name(klass))\n",
    "        "
   ]
  },
  {
   "cell_type": "code",
   "execution_count": 55,
   "id": "03186b1d",
   "metadata": {},
   "outputs": [
    {
     "name": "stdout",
     "output_type": "stream",
     "text": [
      "SkipGramEnsmallen SkipGram\n",
      "TransEEnsmallen TransE\n",
      "WeightedSPINE WeightedSPINE\n",
      "SPINE SPINE\n",
      "CBOWEnsmallen CBOW\n"
     ]
    }
   ],
   "source": [
    "build_init(\"embiggen/embedders/ensmallen_embedders/*.py\", \"AbstractModel\")"
   ]
  },
  {
   "cell_type": "code",
   "execution_count": 14,
   "id": "8bcec2f1",
   "metadata": {},
   "outputs": [
    {
     "data": {
      "text/plain": [
       "[<_ast.ClassDef at 0x7f8950d9b850>]"
      ]
     },
     "execution_count": 14,
     "metadata": {},
     "output_type": "execute_result"
    }
   ],
   "source": [
    "[\n",
    "    element\n",
    "    for element in parsed.body\n",
    "    if isinstance(element, ClassDef)\n",
    "]"
   ]
  },
  {
   "cell_type": "code",
   "execution_count": null,
   "id": "b93823e4",
   "metadata": {},
   "outputs": [],
   "source": [
    "[\n",
    "    element\n",
    "    for element in parsed.body\n",
    "    if isinstance(element, ClassDef)\n",
    "]"
   ]
  },
  {
   "cell_type": "code",
   "execution_count": 24,
   "id": "6a4a7615",
   "metadata": {},
   "outputs": [
    {
     "data": {
      "text/plain": [
       "[<_ast.ImportFrom at 0x7f8950d9b750>, <_ast.ImportFrom at 0x7f8950d9b7d0>]"
      ]
     },
     "execution_count": 24,
     "metadata": {},
     "output_type": "execute_result"
    }
   ],
   "source": [
    "[\n",
    "    element\n",
    "    for element in parsed.body\n",
    "    if isinstance(element, ImportFrom)\n",
    "]"
   ]
  },
  {
   "cell_type": "code",
   "execution_count": 20,
   "id": "4ee86433",
   "metadata": {},
   "outputs": [
    {
     "data": {
      "text/plain": [
       "'Node2Vec'"
      ]
     },
     "execution_count": 20,
     "metadata": {},
     "output_type": "execute_result"
    }
   ],
   "source": [
    "parsed.body[-1].bases[0].id"
   ]
  },
  {
   "cell_type": "code",
   "execution_count": 92,
   "id": "015798fa",
   "metadata": {},
   "outputs": [
    {
     "data": {
      "text/plain": [
       "'Optional'"
      ]
     },
     "execution_count": 92,
     "metadata": {},
     "output_type": "execute_result"
    }
   ],
   "source": [
    "parsed.body[1].names[0].name"
   ]
  },
  {
   "cell_type": "code",
   "execution_count": 27,
   "id": "3462cf37",
   "metadata": {},
   "outputs": [],
   "source": [
    "imports = [\n",
    "    element\n",
    "    for element in parsed.body\n",
    "    if isinstance(element, ImportFrom)\n",
    "]"
   ]
  },
  {
   "cell_type": "code",
   "execution_count": 38,
   "id": "9b02df76",
   "metadata": {},
   "outputs": [
    {
     "data": {
      "text/plain": [
       "'Node2Vec'"
      ]
     },
     "execution_count": 38,
     "metadata": {},
     "output_type": "execute_result"
    }
   ],
   "source": [
    "imports[1].names[0].name"
   ]
  }
 ],
 "metadata": {
  "kernelspec": {
   "display_name": "Python 3 (ipykernel)",
   "language": "python",
   "name": "python3"
  },
  "language_info": {
   "codemirror_mode": {
    "name": "ipython",
    "version": 3
   },
   "file_extension": ".py",
   "mimetype": "text/x-python",
   "name": "python",
   "nbconvert_exporter": "python",
   "pygments_lexer": "ipython3",
   "version": "3.7.13"
  }
 },
 "nbformat": 4,
 "nbformat_minor": 5
}
